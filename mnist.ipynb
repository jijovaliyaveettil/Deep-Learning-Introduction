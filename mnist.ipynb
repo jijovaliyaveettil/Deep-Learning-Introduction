{
 "cells": [
  {
   "cell_type": "code",
   "execution_count": 2,
   "metadata": {},
   "outputs": [],
   "source": [
    "import numpy as np\n",
    "import pandas as pd\n",
    "import matplotlib.pyplot as plt"
   ]
  },
  {
   "cell_type": "markdown",
   "metadata": {},
   "source": [
    "### Extraction of zipfile & Data Loading"
   ]
  },
  {
   "cell_type": "code",
   "execution_count": 5,
   "metadata": {},
   "outputs": [
    {
     "data": {
      "text/html": [
       "<div>\n",
       "<style scoped>\n",
       "    .dataframe tbody tr th:only-of-type {\n",
       "        vertical-align: middle;\n",
       "    }\n",
       "\n",
       "    .dataframe tbody tr th {\n",
       "        vertical-align: top;\n",
       "    }\n",
       "\n",
       "    .dataframe thead th {\n",
       "        text-align: right;\n",
       "    }\n",
       "</style>\n",
       "<table border=\"1\" class=\"dataframe\">\n",
       "  <thead>\n",
       "    <tr style=\"text-align: right;\">\n",
       "      <th></th>\n",
       "      <th>label</th>\n",
       "      <th>pixel0</th>\n",
       "      <th>pixel1</th>\n",
       "      <th>pixel2</th>\n",
       "      <th>pixel3</th>\n",
       "      <th>pixel4</th>\n",
       "      <th>pixel5</th>\n",
       "      <th>pixel6</th>\n",
       "      <th>pixel7</th>\n",
       "      <th>pixel8</th>\n",
       "      <th>...</th>\n",
       "      <th>pixel774</th>\n",
       "      <th>pixel775</th>\n",
       "      <th>pixel776</th>\n",
       "      <th>pixel777</th>\n",
       "      <th>pixel778</th>\n",
       "      <th>pixel779</th>\n",
       "      <th>pixel780</th>\n",
       "      <th>pixel781</th>\n",
       "      <th>pixel782</th>\n",
       "      <th>pixel783</th>\n",
       "    </tr>\n",
       "  </thead>\n",
       "  <tbody>\n",
       "    <tr>\n",
       "      <th>0</th>\n",
       "      <td>1</td>\n",
       "      <td>0</td>\n",
       "      <td>0</td>\n",
       "      <td>0</td>\n",
       "      <td>0</td>\n",
       "      <td>0</td>\n",
       "      <td>0</td>\n",
       "      <td>0</td>\n",
       "      <td>0</td>\n",
       "      <td>0</td>\n",
       "      <td>...</td>\n",
       "      <td>0</td>\n",
       "      <td>0</td>\n",
       "      <td>0</td>\n",
       "      <td>0</td>\n",
       "      <td>0</td>\n",
       "      <td>0</td>\n",
       "      <td>0</td>\n",
       "      <td>0</td>\n",
       "      <td>0</td>\n",
       "      <td>0</td>\n",
       "    </tr>\n",
       "    <tr>\n",
       "      <th>1</th>\n",
       "      <td>0</td>\n",
       "      <td>0</td>\n",
       "      <td>0</td>\n",
       "      <td>0</td>\n",
       "      <td>0</td>\n",
       "      <td>0</td>\n",
       "      <td>0</td>\n",
       "      <td>0</td>\n",
       "      <td>0</td>\n",
       "      <td>0</td>\n",
       "      <td>...</td>\n",
       "      <td>0</td>\n",
       "      <td>0</td>\n",
       "      <td>0</td>\n",
       "      <td>0</td>\n",
       "      <td>0</td>\n",
       "      <td>0</td>\n",
       "      <td>0</td>\n",
       "      <td>0</td>\n",
       "      <td>0</td>\n",
       "      <td>0</td>\n",
       "    </tr>\n",
       "    <tr>\n",
       "      <th>2</th>\n",
       "      <td>1</td>\n",
       "      <td>0</td>\n",
       "      <td>0</td>\n",
       "      <td>0</td>\n",
       "      <td>0</td>\n",
       "      <td>0</td>\n",
       "      <td>0</td>\n",
       "      <td>0</td>\n",
       "      <td>0</td>\n",
       "      <td>0</td>\n",
       "      <td>...</td>\n",
       "      <td>0</td>\n",
       "      <td>0</td>\n",
       "      <td>0</td>\n",
       "      <td>0</td>\n",
       "      <td>0</td>\n",
       "      <td>0</td>\n",
       "      <td>0</td>\n",
       "      <td>0</td>\n",
       "      <td>0</td>\n",
       "      <td>0</td>\n",
       "    </tr>\n",
       "    <tr>\n",
       "      <th>3</th>\n",
       "      <td>4</td>\n",
       "      <td>0</td>\n",
       "      <td>0</td>\n",
       "      <td>0</td>\n",
       "      <td>0</td>\n",
       "      <td>0</td>\n",
       "      <td>0</td>\n",
       "      <td>0</td>\n",
       "      <td>0</td>\n",
       "      <td>0</td>\n",
       "      <td>...</td>\n",
       "      <td>0</td>\n",
       "      <td>0</td>\n",
       "      <td>0</td>\n",
       "      <td>0</td>\n",
       "      <td>0</td>\n",
       "      <td>0</td>\n",
       "      <td>0</td>\n",
       "      <td>0</td>\n",
       "      <td>0</td>\n",
       "      <td>0</td>\n",
       "    </tr>\n",
       "    <tr>\n",
       "      <th>4</th>\n",
       "      <td>0</td>\n",
       "      <td>0</td>\n",
       "      <td>0</td>\n",
       "      <td>0</td>\n",
       "      <td>0</td>\n",
       "      <td>0</td>\n",
       "      <td>0</td>\n",
       "      <td>0</td>\n",
       "      <td>0</td>\n",
       "      <td>0</td>\n",
       "      <td>...</td>\n",
       "      <td>0</td>\n",
       "      <td>0</td>\n",
       "      <td>0</td>\n",
       "      <td>0</td>\n",
       "      <td>0</td>\n",
       "      <td>0</td>\n",
       "      <td>0</td>\n",
       "      <td>0</td>\n",
       "      <td>0</td>\n",
       "      <td>0</td>\n",
       "    </tr>\n",
       "    <tr>\n",
       "      <th>...</th>\n",
       "      <td>...</td>\n",
       "      <td>...</td>\n",
       "      <td>...</td>\n",
       "      <td>...</td>\n",
       "      <td>...</td>\n",
       "      <td>...</td>\n",
       "      <td>...</td>\n",
       "      <td>...</td>\n",
       "      <td>...</td>\n",
       "      <td>...</td>\n",
       "      <td>...</td>\n",
       "      <td>...</td>\n",
       "      <td>...</td>\n",
       "      <td>...</td>\n",
       "      <td>...</td>\n",
       "      <td>...</td>\n",
       "      <td>...</td>\n",
       "      <td>...</td>\n",
       "      <td>...</td>\n",
       "      <td>...</td>\n",
       "      <td>...</td>\n",
       "    </tr>\n",
       "    <tr>\n",
       "      <th>41995</th>\n",
       "      <td>0</td>\n",
       "      <td>0</td>\n",
       "      <td>0</td>\n",
       "      <td>0</td>\n",
       "      <td>0</td>\n",
       "      <td>0</td>\n",
       "      <td>0</td>\n",
       "      <td>0</td>\n",
       "      <td>0</td>\n",
       "      <td>0</td>\n",
       "      <td>...</td>\n",
       "      <td>0</td>\n",
       "      <td>0</td>\n",
       "      <td>0</td>\n",
       "      <td>0</td>\n",
       "      <td>0</td>\n",
       "      <td>0</td>\n",
       "      <td>0</td>\n",
       "      <td>0</td>\n",
       "      <td>0</td>\n",
       "      <td>0</td>\n",
       "    </tr>\n",
       "    <tr>\n",
       "      <th>41996</th>\n",
       "      <td>1</td>\n",
       "      <td>0</td>\n",
       "      <td>0</td>\n",
       "      <td>0</td>\n",
       "      <td>0</td>\n",
       "      <td>0</td>\n",
       "      <td>0</td>\n",
       "      <td>0</td>\n",
       "      <td>0</td>\n",
       "      <td>0</td>\n",
       "      <td>...</td>\n",
       "      <td>0</td>\n",
       "      <td>0</td>\n",
       "      <td>0</td>\n",
       "      <td>0</td>\n",
       "      <td>0</td>\n",
       "      <td>0</td>\n",
       "      <td>0</td>\n",
       "      <td>0</td>\n",
       "      <td>0</td>\n",
       "      <td>0</td>\n",
       "    </tr>\n",
       "    <tr>\n",
       "      <th>41997</th>\n",
       "      <td>7</td>\n",
       "      <td>0</td>\n",
       "      <td>0</td>\n",
       "      <td>0</td>\n",
       "      <td>0</td>\n",
       "      <td>0</td>\n",
       "      <td>0</td>\n",
       "      <td>0</td>\n",
       "      <td>0</td>\n",
       "      <td>0</td>\n",
       "      <td>...</td>\n",
       "      <td>0</td>\n",
       "      <td>0</td>\n",
       "      <td>0</td>\n",
       "      <td>0</td>\n",
       "      <td>0</td>\n",
       "      <td>0</td>\n",
       "      <td>0</td>\n",
       "      <td>0</td>\n",
       "      <td>0</td>\n",
       "      <td>0</td>\n",
       "    </tr>\n",
       "    <tr>\n",
       "      <th>41998</th>\n",
       "      <td>6</td>\n",
       "      <td>0</td>\n",
       "      <td>0</td>\n",
       "      <td>0</td>\n",
       "      <td>0</td>\n",
       "      <td>0</td>\n",
       "      <td>0</td>\n",
       "      <td>0</td>\n",
       "      <td>0</td>\n",
       "      <td>0</td>\n",
       "      <td>...</td>\n",
       "      <td>0</td>\n",
       "      <td>0</td>\n",
       "      <td>0</td>\n",
       "      <td>0</td>\n",
       "      <td>0</td>\n",
       "      <td>0</td>\n",
       "      <td>0</td>\n",
       "      <td>0</td>\n",
       "      <td>0</td>\n",
       "      <td>0</td>\n",
       "    </tr>\n",
       "    <tr>\n",
       "      <th>41999</th>\n",
       "      <td>9</td>\n",
       "      <td>0</td>\n",
       "      <td>0</td>\n",
       "      <td>0</td>\n",
       "      <td>0</td>\n",
       "      <td>0</td>\n",
       "      <td>0</td>\n",
       "      <td>0</td>\n",
       "      <td>0</td>\n",
       "      <td>0</td>\n",
       "      <td>...</td>\n",
       "      <td>0</td>\n",
       "      <td>0</td>\n",
       "      <td>0</td>\n",
       "      <td>0</td>\n",
       "      <td>0</td>\n",
       "      <td>0</td>\n",
       "      <td>0</td>\n",
       "      <td>0</td>\n",
       "      <td>0</td>\n",
       "      <td>0</td>\n",
       "    </tr>\n",
       "  </tbody>\n",
       "</table>\n",
       "<p>42000 rows × 785 columns</p>\n",
       "</div>"
      ],
      "text/plain": [
       "       label  pixel0  pixel1  pixel2  pixel3  pixel4  pixel5  pixel6  pixel7  \\\n",
       "0          1       0       0       0       0       0       0       0       0   \n",
       "1          0       0       0       0       0       0       0       0       0   \n",
       "2          1       0       0       0       0       0       0       0       0   \n",
       "3          4       0       0       0       0       0       0       0       0   \n",
       "4          0       0       0       0       0       0       0       0       0   \n",
       "...      ...     ...     ...     ...     ...     ...     ...     ...     ...   \n",
       "41995      0       0       0       0       0       0       0       0       0   \n",
       "41996      1       0       0       0       0       0       0       0       0   \n",
       "41997      7       0       0       0       0       0       0       0       0   \n",
       "41998      6       0       0       0       0       0       0       0       0   \n",
       "41999      9       0       0       0       0       0       0       0       0   \n",
       "\n",
       "       pixel8  ...  pixel774  pixel775  pixel776  pixel777  pixel778  \\\n",
       "0           0  ...         0         0         0         0         0   \n",
       "1           0  ...         0         0         0         0         0   \n",
       "2           0  ...         0         0         0         0         0   \n",
       "3           0  ...         0         0         0         0         0   \n",
       "4           0  ...         0         0         0         0         0   \n",
       "...       ...  ...       ...       ...       ...       ...       ...   \n",
       "41995       0  ...         0         0         0         0         0   \n",
       "41996       0  ...         0         0         0         0         0   \n",
       "41997       0  ...         0         0         0         0         0   \n",
       "41998       0  ...         0         0         0         0         0   \n",
       "41999       0  ...         0         0         0         0         0   \n",
       "\n",
       "       pixel779  pixel780  pixel781  pixel782  pixel783  \n",
       "0             0         0         0         0         0  \n",
       "1             0         0         0         0         0  \n",
       "2             0         0         0         0         0  \n",
       "3             0         0         0         0         0  \n",
       "4             0         0         0         0         0  \n",
       "...         ...       ...       ...       ...       ...  \n",
       "41995         0         0         0         0         0  \n",
       "41996         0         0         0         0         0  \n",
       "41997         0         0         0         0         0  \n",
       "41998         0         0         0         0         0  \n",
       "41999         0         0         0         0         0  \n",
       "\n",
       "[42000 rows x 785 columns]"
      ]
     },
     "execution_count": 5,
     "metadata": {},
     "output_type": "execute_result"
    }
   ],
   "source": [
    "data = pd.read_csv('data/train.csv')\n",
    "data"
   ]
  },
  {
   "cell_type": "markdown",
   "metadata": {},
   "source": [
    "Some facts about the dataset:\n",
    "- The dataset is a collection of handwritten digits (0-9) from the MNIST database.\n",
    "- Each image is a 28x28 pixel grayscale image.\n",
    "- 42000 rows indicate the number of images\n",
    "- 784 columns indicate the number of pixels in each image\n",
    "- 0-9 labels indicate the digit represented by the image\n",
    "- the value of each pixel is between 0-255 where 0 is black and 255 is white"
   ]
  },
  {
   "cell_type": "code",
   "execution_count": 6,
   "metadata": {},
   "outputs": [
    {
     "data": {
      "text/plain": [
       "array([[1, 0, 0, ..., 0, 0, 0],\n",
       "       [0, 0, 0, ..., 0, 0, 0],\n",
       "       [1, 0, 0, ..., 0, 0, 0],\n",
       "       ...,\n",
       "       [7, 0, 0, ..., 0, 0, 0],\n",
       "       [6, 0, 0, ..., 0, 0, 0],\n",
       "       [9, 0, 0, ..., 0, 0, 0]])"
      ]
     },
     "execution_count": 6,
     "metadata": {},
     "output_type": "execute_result"
    }
   ],
   "source": [
    "# Convert the DataFrame to a NumPy array\n",
    "data = np.array(data)\n",
    "data"
   ]
  },
  {
   "cell_type": "code",
   "execution_count": 16,
   "metadata": {},
   "outputs": [
    {
     "data": {
      "text/plain": [
       "array([1, 0, 1, ..., 7, 6, 9])"
      ]
     },
     "execution_count": 16,
     "metadata": {},
     "output_type": "execute_result"
    }
   ],
   "source": [
    "data[:, 0]"
   ]
  },
  {
   "cell_type": "code",
   "execution_count": 18,
   "metadata": {},
   "outputs": [
    {
     "data": {
      "image/png": "[encoded data removed]",
      "text/plain": [
       "<Figure size 640x480 with 1 Axes>"
      ]
     },
     "metadata": {},
     "output_type": "display_data"
    }
   ],
   "source": [
    "image = data[50,1:].reshape(28, 28)\n",
    "\n",
    "# Display the image\n",
    "plt.imshow(image, cmap='gray')\n",
    "plt.show()"
   ]
  },
  {
   "cell_type": "code",
   "execution_count": 19,
   "metadata": {},
   "outputs": [
    {
     "data": {
      "text/plain": [
       "(42000, 784)"
      ]
     },
     "execution_count": 19,
     "metadata": {},
     "output_type": "execute_result"
    }
   ],
   "source": [
    "labels = data[:, 0].astype(int)  \n",
    "pixels = data[:, 1:]\n",
    "pixels.shape"
   ]
  },
  {
   "cell_type": "markdown",
   "metadata": {},
   "source": [
    "### Normalization:\n",
    "\n",
    "Scale pixel values from [0, 255] to [0, 1]\n",
    "\n",
    "Why?: Prevents large input values from destabilizing gradients."
   ]
  },
  {
   "cell_type": "code",
   "execution_count": 32,
   "metadata": {},
   "outputs": [
    {
     "data": {
      "text/plain": [
       "array([[0., 0., 0., ..., 0., 0., 0.],\n",
       "       [0., 0., 0., ..., 0., 0., 0.],\n",
       "       [0., 0., 0., ..., 0., 0., 0.],\n",
       "       ...,\n",
       "       [0., 0., 0., ..., 0., 0., 0.],\n",
       "       [0., 0., 0., ..., 0., 0., 0.],\n",
       "       [0., 0., 0., ..., 0., 0., 0.]])"
      ]
     },
     "execution_count": 32,
     "metadata": {},
     "output_type": "execute_result"
    }
   ],
   "source": [
    "pixels = pixels / 255.0\n",
    "pixels"
   ]
  },
  {
   "cell_type": "markdown",
   "metadata": {},
   "source": [
    "### One-Hot Encoding:\n",
    "\n",
    "Convert labels to 10-dimensional vectors (e.g., label 3 → [0,0,0,1,0,0,0,0,0,0])\n",
    "\n",
    "Why?: Matches the output layer dimension for softmax classification."
   ]
  },
  {
   "cell_type": "code",
   "execution_count": 33,
   "metadata": {},
   "outputs": [
    {
     "data": {
      "text/plain": [
       "10"
      ]
     },
     "execution_count": 33,
     "metadata": {},
     "output_type": "execute_result"
    }
   ],
   "source": [
    "num_labels = len(np.unique(labels))\n",
    "num_labels"
   ]
  },
  {
   "cell_type": "code",
   "execution_count": 34,
   "metadata": {},
   "outputs": [
    {
     "data": {
      "text/plain": [
       "(42000, 10)"
      ]
     },
     "execution_count": 34,
     "metadata": {},
     "output_type": "execute_result"
    }
   ],
   "source": [
    "# can write a onehot function \n",
    "one_hot_labels = np.eye(num_labels)[labels]  # Shape: (42000, 10)\n",
    "one_hot_labels.shape"
   ]
  },
  {
   "cell_type": "markdown",
   "metadata": {},
   "source": [
    "### Train and Validation split"
   ]
  },
  {
   "cell_type": "code",
   "execution_count": 37,
   "metadata": {},
   "outputs": [
    {
     "data": {
      "text/plain": [
       "(40000, 784)"
      ]
     },
     "execution_count": 37,
     "metadata": {},
     "output_type": "execute_result"
    }
   ],
   "source": [
    "pixels[:40000].shape"
   ]
  },
  {
   "cell_type": "code",
   "execution_count": 39,
   "metadata": {},
   "outputs": [],
   "source": [
    "# should we randomise the dataset for better results ?\n",
    "X_train, X_test = pixels[:40000], pixels[40000:]\n",
    "Y_train, Y_test = one_hot_labels[:40000], one_hot_labels[40000:]"
   ]
  },
  {
   "cell_type": "code",
   "execution_count": 40,
   "metadata": {},
   "outputs": [
    {
     "name": "stdout",
     "output_type": "stream",
     "text": [
      "(40000, 784) (40000, 10)\n",
      "(2000, 784) (2000, 10)\n"
     ]
    }
   ],
   "source": [
    "# Check the shape of the training and test sets\n",
    "print(X_train.shape, Y_train.shape)\n",
    "print(X_test.shape, Y_test.shape)"
   ]
  },
  {
   "cell_type": "markdown",
   "metadata": {},
   "source": [
    "### Initialization of weights and biases "
   ]
  },
  {
   "cell_type": "code",
   "execution_count": 41,
   "metadata": {},
   "outputs": [
    {
     "name": "stdout",
     "output_type": "stream",
     "text": [
      "[[0.94027361 0.95005829]\n",
      " [0.28556778 0.9849777 ]\n",
      " [0.39436223 0.43411518]]\n",
      "[[ 2.20163852  1.36614437]\n",
      " [-0.85390301  0.8905027 ]\n",
      " [ 0.10171543  0.60226587]]\n"
     ]
    }
   ],
   "source": [
    "# Generate random numbers\n",
    "uniform_random_numbers = np.random.rand(3, 2)\n",
    "normal_random_numbers = np.random.randn(3, 2)\n",
    "print(uniform_random_numbers)\n",
    "print(normal_random_numbers)"
   ]
  },
  {
   "cell_type": "code",
   "execution_count": 106,
   "metadata": {},
   "outputs": [
    {
     "name": "stdout",
     "output_type": "stream",
     "text": [
      "Original random numbers:\n",
      " [[-0.65656939 -0.19794362]\n",
      " [-1.54123519 -0.05240382]\n",
      " [ 0.38850029  0.60545812]]\n",
      "Scaled random numbers:\n",
      " [[-0.29362676 -0.08852308]\n",
      " [-0.68926133 -0.0234357 ]\n",
      " [ 0.17374261  0.2707691 ]]\n"
     ]
    }
   ],
   "source": [
    "n = 10  # Example value for n\n",
    "scaling_factor = np.sqrt(2 / n)\n",
    "\n",
    "# Generate a 3x2 array of random numbers from a standard normal distribution\n",
    "normal_random_numbers = np.random.randn(3, 2)\n",
    "\n",
    "# Scale the random numbers\n",
    "scaled_random_numbers = normal_random_numbers * scaling_factor\n",
    "\n",
    "print(\"Original random numbers:\\n\", normal_random_numbers)\n",
    "print(\"Scaled random numbers:\\n\", scaled_random_numbers)"
   ]
  },
  {
   "cell_type": "markdown",
   "metadata": {},
   "source": [
    "Some reasons for the chosen initialization:\n",
    "- **Xavier Initialization**: Suitable for tanh activation functions. It keeps the variance of activations and gradients the same across layers.\n",
    "- **He Initialization**: Suitable for ReLU activation functions. It helps in maintaining the variance of activations and gradients across layers.\n",
    "- **Xavier Initialization**: Variance of weights is set to 1/n, where n is the number of input neurons.\n",
    "- **He Initialization**: Variance of weights is set to 2/n, where n is the number of input neurons.\n",
    "\n",
    "ReLU sets half the neurons to zero during forward propagation. He initialization compensates for this by doubling the variance of the weights, ensuring the output variance remains stable (prevents gradients from vanishing or exploding)."
   ]
  },
  {
   "cell_type": "markdown",
   "metadata": {},
   "source": [
    "Some reasons for the selection of 128 neurons:\n",
    "- **Empirical Evidence**: 128 neurons have been found to work well in practice for many tasks.\n",
    "- **Computational Efficiency**: 128 neurons are computationally efficient for training and inference.\n",
    "- **Flexibility**: 128 neurons provide a good balance between model complexity and generalization.\n",
    "- **Rule of Thumb**: Start with a hidden layer size between the input (784) and output (10) layers.\n",
    "\n",
    "Why the dimension of 784,128?\n",
    "\n",
    "For a layer with n_input neurons and n_output neurons, weights must have shape (n_input, n_output) as per matrix multiplication rules."
   ]
  },
  {
   "cell_type": "code",
   "execution_count": 42,
   "metadata": {},
   "outputs": [],
   "source": [
    "def initialize_parameters():\n",
    "    np.random.seed(42)  # Fix randomness for reproducibility\n",
    "    \n",
    "    W1 = np.random.randn(784, 128) * np.sqrt(2 / 784)  # He initialization for ReLU\n",
    "    b1 = np.zeros((1, 128))                             # Zero bias\n",
    "    W2 = np.random.randn(128, 10) * np.sqrt(2 / 128)    # He initialization\n",
    "    b2 = np.zeros((1, 10))                              # Zero bias\n",
    "    return W1, b1, W2, b2"
   ]
  },
  {
   "cell_type": "markdown",
   "metadata": {},
   "source": [
    "### Forward propogation "
   ]
  },
  {
   "cell_type": "code",
   "execution_count": 109,
   "metadata": {},
   "outputs": [],
   "source": [
    "# def ReLU(Z):\n",
    "#     return np.maximum(Z, 0)\n",
    "\n",
    "# def softmax(Z):\n",
    "#     A = np.exp(Z) / sum(np.exp(Z))\n",
    "#     return A\n",
    "    \n",
    "# def forward_prop(W1, b1, W2, b2, X):\n",
    "#     Z1 = W1.dot(X) + b1\n",
    "#     A1 = ReLU(Z1)\n",
    "#     Z2 = W2.dot(A1) + b2\n",
    "#     A2 = softmax(Z2)\n",
    "#     return Z1, A1, Z2, A2\n",
    "\n",
    "# def ReLU_deriv(Z):\n",
    "#     return Z > 0\n",
    "\n",
    "# def one_hot(Y):\n",
    "#     one_hot_Y = np.zeros((Y.size, Y.max() + 1))\n",
    "#     one_hot_Y[np.arange(Y.size), Y] = 1\n",
    "#     one_hot_Y = one_hot_Y.T\n",
    "#     return one_hot_Y"
   ]
  },
  {
   "cell_type": "markdown",
   "metadata": {},
   "source": [
    "Why z - np.max ?\n",
    "\n",
    " If values in Z are large (e.g., 1000), np.exp(Z) becomes inf (overflow). therefore we Subtract the maximum value in Z before exponentiation"
   ]
  },
  {
   "cell_type": "code",
   "execution_count": 110,
   "metadata": {},
   "outputs": [],
   "source": [
    "def relu(z):\n",
    "    return np.maximum(0, z)\n",
    "\n",
    "def softmax(z):\n",
    "    exp_z = np.exp(z - np.max(z, axis=1, keepdims=True))  # Numerical stability\n",
    "    return exp_z / np.sum(exp_z, axis=1, keepdims=True)\n",
    "\n",
    "def forward(X, W1, b1, W2, b2):\n",
    "    Z1 = np.dot(X, W1) + b1    # Shape: (batch_size, 128)\n",
    "    A1 = relu(Z1)\n",
    "    Z2 = np.dot(A1, W2) + b2   # Shape: (batch_size, 10)\n",
    "    A2 = softmax(Z2)\n",
    "    return Z1, A1, Z2, A2"
   ]
  },
  {
   "cell_type": "markdown",
   "metadata": {},
   "source": [
    "### Loss Calculation"
   ]
  },
  {
   "cell_type": "code",
   "execution_count": 111,
   "metadata": {},
   "outputs": [],
   "source": [
    "def compute_loss(Y_pred, Y_true):\n",
    "    return -np.mean(np.sum(Y_true * np.log(Y_pred + 1e-15), axis=1))  # +1e-15 to avoid log(0)"
   ]
  },
  {
   "cell_type": "markdown",
   "metadata": {},
   "source": [
    "### Backward Propogation"
   ]
  },
  {
   "cell_type": "code",
   "execution_count": 112,
   "metadata": {},
   "outputs": [],
   "source": [
    "# def backward_prop(Z1, A1, Z2, A2, W1, W2, X, Y):\n",
    "#     one_hot_Y = one_hot(Y)\n",
    "#     dZ2 = A2 - one_hot_Y\n",
    "#     dW2 = 1 / m * dZ2.dot(A1.T)\n",
    "#     db2 = 1 / m * np.sum(dZ2)\n",
    "#     dZ1 = W2.T.dot(dZ2) * ReLU_deriv(Z1)\n",
    "#     dW1 = 1 / m * dZ1.dot(X.T)\n",
    "#     db1 = 1 / m * np.sum(dZ1)\n",
    "#     return dW1, db1, dW2, db2\n",
    "\n",
    "# def update_params(W1, b1, W2, b2, dW1, db1, dW2, db2, alpha):\n",
    "#     W1 = W1 - alpha * dW1\n",
    "#     b1 = b1 - alpha * db1    \n",
    "#     W2 = W2 - alpha * dW2  \n",
    "#     b2 = b2 - alpha * db2    \n",
    "#     return W1, b1, W2, b2"
   ]
  },
  {
   "cell_type": "code",
   "execution_count": 113,
   "metadata": {},
   "outputs": [],
   "source": [
    "def backward(X, Y, Z1, A1, A2, W2):\n",
    "    batch_size = X.shape[0]\n",
    "    \n",
    "    # Output layer gradients\n",
    "    dZ2 = A2 - Y                            # Shape: (batch_size, 10)\n",
    "    dW2 = (A1.T @ dZ2) / batch_size          # Shape: (128, 10)\n",
    "    db2 = np.sum(dZ2, axis=0, keepdims=True) / batch_size\n",
    "    \n",
    "    # Hidden layer gradients\n",
    "    dZ1 = (dZ2 @ W2.T) * (Z1 > 0)           # Shape: (batch_size, 128)\n",
    "    dW1 = (X.T @ dZ1) / batch_size           # Shape: (784, 128)\n",
    "    db1 = np.sum(dZ1, axis=0, keepdims=True) / batch_size\n",
    "    \n",
    "    return dW1, db1, dW2, db2"
   ]
  },
  {
   "cell_type": "markdown",
   "metadata": {},
   "source": [
    "### Parameter update"
   ]
  },
  {
   "cell_type": "code",
   "execution_count": 114,
   "metadata": {},
   "outputs": [],
   "source": [
    "# def update_params(W1, b1, W2, b2, dW1, db1, dW2, db2, alpha):\n",
    "#     W1 = W1 - alpha * dW1\n",
    "#     b1 = b1 - alpha * db1    \n",
    "#     W2 = W2 - alpha * dW2  \n",
    "#     b2 = b2 - alpha * db2    \n",
    "#     return W1, b1, W2, b2"
   ]
  },
  {
   "cell_type": "code",
   "execution_count": 115,
   "metadata": {},
   "outputs": [],
   "source": [
    "def update_parameters(W1, b1, W2, b2, dW1, db1, dW2, db2, lr=0.1):\n",
    "    W1 -= lr * dW1\n",
    "    b1 -= lr * db1\n",
    "    W2 -= lr * dW2\n",
    "    b2 -= lr * db2\n",
    "    return W1, b1, W2, b2"
   ]
  },
  {
   "cell_type": "markdown",
   "metadata": {},
   "source": [
    "### Training loop"
   ]
  },
  {
   "cell_type": "code",
   "execution_count": 116,
   "metadata": {},
   "outputs": [],
   "source": [
    "# def get_predictions(A2):\n",
    "#     return np.argmax(A2, 0)\n",
    "\n",
    "# def get_accuracy(predictions, Y):\n",
    "#     print(predictions, Y)\n",
    "#     return np.sum(predictions == Y) / Y.size\n",
    "\n",
    "# def gradient_descent(X, Y, alpha, iterations):\n",
    "#     W1, b1, W2, b2 = init_params()\n",
    "#     for i in range(iterations):\n",
    "#         Z1, A1, Z2, A2 = forward_prop(W1, b1, W2, b2, X)\n",
    "#         dW1, db1, dW2, db2 = backward_prop(Z1, A1, Z2, A2, W1, W2, X, Y)\n",
    "#         W1, b1, W2, b2 = update_params(W1, b1, W2, b2, dW1, db1, dW2, db2, alpha)\n",
    "#         if i % 10 == 0:\n",
    "#             print(\"Iteration: \", i)\n",
    "#             predictions = get_predictions(A2)\n",
    "#             print(get_accuracy(predictions, Y))\n",
    "#     return W1, b1, W2, b2"
   ]
  },
  {
   "cell_type": "code",
   "execution_count": 117,
   "metadata": {},
   "outputs": [],
   "source": [
    "def train(X_train, Y_train, epochs=100, batch_size=64, lr=0.1):\n",
    "    W1, b1, W2, b2 = initialize_parameters()\n",
    "    \n",
    "    for epoch in range(epochs):\n",
    "        # Shuffle data\n",
    "        permutation = np.random.permutation(X_train.shape[0])\n",
    "        X_shuffled = X_train[permutation]\n",
    "        Y_shuffled = Y_train[permutation]\n",
    "        \n",
    "        # Mini-batch training\n",
    "        for i in range(0, X_train.shape[0], batch_size):\n",
    "            X_batch = X_shuffled[i:i+batch_size]\n",
    "            Y_batch = Y_shuffled[i:i+batch_size]\n",
    "            \n",
    "            # Forward pass\n",
    "            Z1, A1, Z2, A2 = forward(X_batch, W1, b1, W2, b2)\n",
    "            \n",
    "            # Backward pass\n",
    "            dW1, db1, dW2, db2 = backward(X_batch, Y_batch, Z1, A1, A2, W2)\n",
    "            \n",
    "            # Update parameters\n",
    "            W1, b1, W2, b2 = update_parameters(W1, b1, W2, b2, dW1, db1, dW2, db2, lr)\n",
    "        \n",
    "        # Print loss every 10 epochs\n",
    "        if epoch % 10 == 0:\n",
    "            _, _, _, A2 = forward(X_train, W1, b1, W2, b2)\n",
    "            loss = compute_loss(A2, Y_train)\n",
    "            print(f\"Epoch {epoch}, Loss: {loss:.4f}\")\n",
    "    \n",
    "    return W1, b1, W2, b2"
   ]
  },
  {
   "cell_type": "markdown",
   "metadata": {},
   "source": [
    "### Result"
   ]
  },
  {
   "cell_type": "markdown",
   "metadata": {},
   "source": [
    "<!-- W1, b1, W2, b2 = gradient_descent(X_train, Y_train, 0.10, 500) -->"
   ]
  },
  {
   "cell_type": "code",
   "execution_count": 118,
   "metadata": {},
   "outputs": [
    {
     "name": "stdout",
     "output_type": "stream",
     "text": [
      "Epoch 0, Loss: 0.2615\n",
      "Epoch 10, Loss: 0.0562\n",
      "Epoch 20, Loss: 0.0251\n",
      "Epoch 30, Loss: 0.0120\n",
      "Epoch 40, Loss: 0.0075\n",
      "Epoch 50, Loss: 0.0049\n",
      "Epoch 60, Loss: 0.0035\n",
      "Epoch 70, Loss: 0.0027\n",
      "Epoch 80, Loss: 0.0022\n",
      "Epoch 90, Loss: 0.0018\n",
      "Test Accuracy: 97.20%\n"
     ]
    }
   ],
   "source": [
    "def accuracy(X, Y, W1, b1, W2, b2):\n",
    "    _, _, _, A2 = forward(X, W1, b1, W2, b2)\n",
    "    predictions = np.argmax(A2, axis=1)\n",
    "    true_labels = np.argmax(Y, axis=1)\n",
    "    return np.mean(predictions == true_labels)\n",
    "\n",
    "# Train the model\n",
    "W1, b1, W2, b2 = train(X_train, Y_train)\n",
    "\n",
    "# Test accuracy\n",
    "test_acc = accuracy(X_test, Y_test, W1, b1, W2, b2)\n",
    "print(f\"Test Accuracy: {test_acc * 100:.2f}%\")"
   ]
  },
  {
   "cell_type": "code",
   "execution_count": null,
   "metadata": {},
   "outputs": [],
   "source": []
  }
 ],
 "metadata": {
  "kernelspec": {
   "display_name": "base",
   "language": "python",
   "name": "python3"
  },
  "language_info": {
   "codemirror_mode": {
    "name": "ipython",
    "version": 3
   },
   "file_extension": ".py",
   "mimetype": "text/x-python",
   "name": "python",
   "nbconvert_exporter": "python",
   "pygments_lexer": "ipython3",
   "version": "3.12.4"
  }
 },
 "nbformat": 4,
 "nbformat_minor": 2
}
